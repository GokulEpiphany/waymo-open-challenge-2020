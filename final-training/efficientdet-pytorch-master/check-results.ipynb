{
 "cells": [
  {
   "cell_type": "code",
   "execution_count": 1,
   "metadata": {},
   "outputs": [],
   "source": [
    "import json\n",
    "%matplotlib inline\n",
    "from pycocotools.coco import COCO\n",
    "import numpy as np\n",
    "import cv2\n",
    "import matplotlib.pyplot as plt\n",
    "import matplotlib.patches as patches\n",
    "\n",
    "import pylab\n",
    "pylab.rcParams['figure.figsize'] = (8.0, 10.0)"
   ]
  },
  {
   "cell_type": "code",
   "execution_count": 2,
   "metadata": {},
   "outputs": [],
   "source": [
    "with open('/root/waymo/scripts/final_scripts/check.json') as data_file:\n",
    "  data = data_file.read()\n",
    "  data_content = json.loads(data)"
   ]
  },
  {
   "cell_type": "code",
   "execution_count": 3,
   "metadata": {},
   "outputs": [],
   "source": [
    "start_id = 1\n",
    "end_id  = 140000"
   ]
  },
  {
   "cell_type": "code",
   "execution_count": null,
   "metadata": {},
   "outputs": [],
   "source": [
    "!mkdir test_dataset_2_ensemble"
   ]
  },
  {
   "cell_type": "code",
   "execution_count": null,
   "metadata": {
    "scrolled": true
   },
   "outputs": [],
   "source": [
    "import os\n",
    "color_v = (255,0,0)\n",
    "color_p = (0,255,0)\n",
    "color_c = (0,0,255)\n",
    "ped = 0\n",
    "cyclist =0\n",
    "for i in range(start_id,end_id,202):\n",
    "    I = cv2.imread(os.path.join('/root/waymo/test_dataset/test/',str(i)+'.jpg'))\n",
    "    print(i)\n",
    "    img_rgb = cv2.cvtColor(I, cv2.COLOR_BGR2RGB)\n",
    "    for content in data_content:\n",
    "        if content['image_id'] == i:\n",
    "            bbox = content['bbox']\n",
    "            category_id = content['category_id']\n",
    "            color_prob = int(255)\n",
    "            if category_id == 1:\n",
    "                color = (color_prob,0,0)\n",
    "            if category_id == 2:\n",
    "                color = (0,color_prob,0)\n",
    "            if category_id == 3:\n",
    "                color = (0,0,color_prob)\n",
    "            thickness = 2\n",
    "            cv2.rectangle(I,(int(bbox[0]),int(bbox[1])),(int(bbox[0]+bbox[2]),int(bbox[1]+bbox[3])),color=color,thickness=thickness)\n",
    "    cv2.imwrite(os.path.join('test_dataset_2_ensemble','{}.jpg'.format(i)),I)"
   ]
  },
  {
   "cell_type": "code",
   "execution_count": null,
   "metadata": {
    "scrolled": true
   },
   "outputs": [],
   "source": [
    "!zip -r test_dataset_2_ensemble.zip test_dataset_2_ensemble/*"
   ]
  },
  {
   "cell_type": "code",
   "execution_count": null,
   "metadata": {},
   "outputs": [],
   "source": [
    "!rm -r proper_dataset"
   ]
  },
  {
   "cell_type": "code",
   "execution_count": null,
   "metadata": {},
   "outputs": [],
   "source": [
    "!rm proper_dataset_4.zip"
   ]
  },
  {
   "cell_type": "code",
   "execution_count": null,
   "metadata": {},
   "outputs": [],
   "source": []
  }
 ],
 "metadata": {
  "kernelspec": {
   "display_name": "Python 3",
   "language": "python",
   "name": "python3"
  },
  "language_info": {
   "codemirror_mode": {
    "name": "ipython",
    "version": 3
   },
   "file_extension": ".py",
   "mimetype": "text/x-python",
   "name": "python",
   "nbconvert_exporter": "python",
   "pygments_lexer": "ipython3",
   "version": "3.7.7"
  }
 },
 "nbformat": 4,
 "nbformat_minor": 4
}
